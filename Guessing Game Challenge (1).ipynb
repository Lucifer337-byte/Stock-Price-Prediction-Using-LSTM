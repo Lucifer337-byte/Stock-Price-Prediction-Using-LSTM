{
 "cells": [
  {
   "cell_type": "markdown",
   "metadata": {},
   "source": [
    "# Guessing Game Challenge\n",
    "\n",
    "Let's use `while` loops to create a guessing game.\n",
    "\n",
    "The Challenge:\n",
    "\n",
    "Write a program that picks a random integer from 1 to 100, and has players guess the number. The rules are:\n",
    "\n",
    "1. If a player's guess is less than 1 or greater than 100, say \"OUT OF BOUNDS\"\n",
    "2. On a player's first turn, if their guess is\n",
    " * within 10 of the number, return \"WARM!\"\n",
    " * further than 10 away from the number, return \"COLD!\"\n",
    "3. On all subsequent turns, if a guess is \n",
    " * closer to the number than the previous guess return \"WARMER!\"\n",
    " * farther from the number than the previous guess, return \"COLDER!\"\n",
    "4. When the player's guess equals the number, tell them they've guessed correctly *and* how many guesses it took!\n",
    "\n",
    "You can try this from scratch, or follow the steps outlined below. A separate Solution notebook has been provided. Good luck!\n"
   ]
  },
  {
   "cell_type": "markdown",
   "metadata": {},
   "source": [
    "#### First, pick a random integer from 1 to 100 using the random module and assign it to a variable\n",
    "\n",
    "Note: `random.randint(a,b)` returns a random integer in range `[a, b]`, including both end points."
   ]
  },
  {
   "cell_type": "code",
   "execution_count": 2,
   "metadata": {},
   "outputs": [],
   "source": [
    "import random\n",
    "random_number = random.randint(1, 100)"
   ]
  },
  {
   "cell_type": "markdown",
   "metadata": {},
   "source": [
    "#### Next, print an introduction to the game and explain the rules"
   ]
  },
  {
   "cell_type": "code",
   "execution_count": 3,
   "metadata": {},
   "outputs": [
    {
     "name": "stdout",
     "output_type": "stream",
     "text": [
      "Welcome to the Guessing Game!\n",
      "I have chosen a number between 1 and 100.\n",
      "Here are the rules:\n",
      "1. If your guess is out of the range 1-100, I'll say 'OUT OF BOUNDS!'\n",
      "2. On your first guess, I'll tell you if you're 'WARM!' (within 10) or 'COLD!' (farther than 10).\n",
      "3. On subsequent guesses, I'll say 'WARMER!' if you're getting closer, or 'COLDER!' if you're moving away.\n",
      "4. Keep guessing until you find the correct number, and I'll tell you how many attempts it took!\n"
     ]
    }
   ],
   "source": [
    "print(\"Welcome to the Guessing Game!\")\n",
    "print(\"I have chosen a number between 1 and 100.\")\n",
    "print(\"Here are the rules:\")\n",
    "print(\"1. If your guess is out of the range 1-100, I'll say 'OUT OF BOUNDS!'\")\n",
    "print(\"2. On your first guess, I'll tell you if you're 'WARM!' (within 10) or 'COLD!' (farther than 10).\")\n",
    "print(\"3. On subsequent guesses, I'll say 'WARMER!' if you're getting closer, or 'COLDER!' if you're moving away.\")\n",
    "print(\"4. Keep guessing until you find the correct number, and I'll tell you how many attempts it took!\")"
   ]
  },
  {
   "cell_type": "markdown",
   "metadata": {},
   "source": [
    "#### Create a list to store guesses\n",
    "\n",
    "Hint: zero is a good placeholder value. It's useful because it evaluates to \"False\""
   ]
  },
  {
   "cell_type": "code",
   "execution_count": 4,
   "metadata": {},
   "outputs": [],
   "source": [
    "guesses = []\n",
    "\n",
    " \n",
    "first_guess_valid = False"
   ]
  },
  {
   "cell_type": "markdown",
   "metadata": {},
   "source": [
    "#### Write a `while` loop that asks for a valid guess. Test it a few times to make sure it works."
   ]
  },
  {
   "cell_type": "code",
   "execution_count": null,
   "metadata": {},
   "outputs": [],
   "source": [
    "while not first_guess_valid:\n",
    "    try:\n",
    "        # Prompt player for the first guess\n",
    "        guess = int(input(\"Enter your first guess: \"))\n",
    "\n",
    "        if 1 <= guess <= 100:\n",
    "            first_guess_valid = True\n",
    "            guesses.append(guess)\n",
    "            print(\"Thank you! Let's continue.\")\n",
    "        else:\n",
    "            print(\"OUT OF BOUNDS! Please guess a number between 1 and 100.\")\n",
    "    except ValueError:\n",
    "        print(\"Invalid input! Please enter a valid integer.\")"
   ]
  },
  {
   "cell_type": "markdown",
   "metadata": {},
   "source": [
    "#### Write a `while` loop that compares the player's guess to our number. If the player guesses correctly, break from the loop. Otherwise, tell the player if they're warmer or colder, and continue asking for guesses.\n",
    "\n",
    "Some hints:\n",
    "* it may help to sketch out all possible combinations on paper first!\n",
    "* you can use the `abs()` function to find the positive difference between two numbers\n",
    "* if you append all new guesses to the list, then the previous guess is given as `guesses[-2]`"
   ]
  },
  {
   "cell_type": "code",
   "execution_count": null,
   "metadata": {
    "collapsed": true,
    "jupyter": {
     "outputs_hidden": true
    }
   },
   "outputs": [],
   "source": [
    " while True:\n",
    "    try:\n",
    "        # Get player's guess\n",
    "        guess = int(input(\"Enter your guess: \"))\n",
    "\n",
    "        # Check if the guess is out of bounds\n",
    "        if guess < 1 or guess > 100:\n",
    "            print(\"OUT OF BOUNDS! Please guess a number between 1 and 100.\")\n",
    "            continue"
   ]
  },
  {
   "cell_type": "markdown",
   "metadata": {},
   "source": [
    "That's it! You've just programmed your first game!\n",
    "\n",
    "In the next section we'll learn how to turn some of these repetitive actions into *functions* that can be called whenever we need them."
   ]
  },
  {
   "cell_type": "markdown",
   "metadata": {},
   "source": [
    "### Good Job!"
   ]
  }
 ],
 "metadata": {
  "kernelspec": {
   "display_name": "Python 3 (ipykernel)",
   "language": "python",
   "name": "python3"
  },
  "language_info": {
   "codemirror_mode": {
    "name": "ipython",
    "version": 3
   },
   "file_extension": ".py",
   "mimetype": "text/x-python",
   "name": "python",
   "nbconvert_exporter": "python",
   "pygments_lexer": "ipython3",
   "version": "3.12.4"
  }
 },
 "nbformat": 4,
 "nbformat_minor": 4
}
